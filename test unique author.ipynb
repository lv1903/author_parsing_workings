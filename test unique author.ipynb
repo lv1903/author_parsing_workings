{
 "cells": [
  {
   "cell_type": "markdown",
   "metadata": {},
   "source": [
    "this notebook is a first look at mapping a real person to authors on papers\n",
    "\n",
    "when the final requirement is defined this can be revisited"
   ]
  },
  {
   "cell_type": "code",
   "execution_count": 95,
   "metadata": {},
   "outputs": [],
   "source": [
    "import pandas as pd\n",
    "import numpy as np\n",
    "\n",
    "import psycopg2\n",
    "\n",
    "import sqlUtils as q"
   ]
  },
  {
   "cell_type": "code",
   "execution_count": 96,
   "metadata": {},
   "outputs": [],
   "source": [
    "query = \"\"\"\n",
    "select *\n",
    "from \n",
    "    match_prob\n",
    "where\n",
    "    prob > 0.9\n",
    "\"\"\"\n",
    "\n",
    "df = q.query(query, 'sqlConfig.json')"
   ]
  },
  {
   "cell_type": "code",
   "execution_count": 97,
   "metadata": {},
   "outputs": [],
   "source": [
    "df['apid1'] = df.asid1.astype(str) + '_' + df.pid1.astype(str)\n",
    "df['apid2'] = df.asid2.astype(str) + '_' + df.pid2.astype(str)"
   ]
  },
  {
   "cell_type": "code",
   "execution_count": 98,
   "metadata": {},
   "outputs": [
    {
     "data": {
      "text/html": [
       "<div>\n",
       "<style scoped>\n",
       "    .dataframe tbody tr th:only-of-type {\n",
       "        vertical-align: middle;\n",
       "    }\n",
       "\n",
       "    .dataframe tbody tr th {\n",
       "        vertical-align: top;\n",
       "    }\n",
       "\n",
       "    .dataframe thead th {\n",
       "        text-align: right;\n",
       "    }\n",
       "</style>\n",
       "<table border=\"1\" class=\"dataframe\">\n",
       "  <thead>\n",
       "    <tr style=\"text-align: right;\">\n",
       "      <th></th>\n",
       "      <th>asid1</th>\n",
       "      <th>pid1</th>\n",
       "      <th>asid2</th>\n",
       "      <th>pid2</th>\n",
       "      <th>prob</th>\n",
       "      <th>apid1</th>\n",
       "      <th>apid2</th>\n",
       "    </tr>\n",
       "  </thead>\n",
       "  <tbody>\n",
       "    <tr>\n",
       "      <th>0</th>\n",
       "      <td>787998</td>\n",
       "      <td>538833</td>\n",
       "      <td>787998</td>\n",
       "      <td>376653</td>\n",
       "      <td>0.976562</td>\n",
       "      <td>787998_538833</td>\n",
       "      <td>787998_376653</td>\n",
       "    </tr>\n",
       "    <tr>\n",
       "      <th>1</th>\n",
       "      <td>390550</td>\n",
       "      <td>538832</td>\n",
       "      <td>390550</td>\n",
       "      <td>128175</td>\n",
       "      <td>0.976562</td>\n",
       "      <td>390550_538832</td>\n",
       "      <td>390550_128175</td>\n",
       "    </tr>\n",
       "    <tr>\n",
       "      <th>2</th>\n",
       "      <td>390550</td>\n",
       "      <td>538832</td>\n",
       "      <td>488447</td>\n",
       "      <td>166886</td>\n",
       "      <td>0.976562</td>\n",
       "      <td>390550_538832</td>\n",
       "      <td>488447_166886</td>\n",
       "    </tr>\n",
       "    <tr>\n",
       "      <th>3</th>\n",
       "      <td>356169</td>\n",
       "      <td>538832</td>\n",
       "      <td>356169</td>\n",
       "      <td>198571</td>\n",
       "      <td>0.976562</td>\n",
       "      <td>356169_538832</td>\n",
       "      <td>356169_198571</td>\n",
       "    </tr>\n",
       "    <tr>\n",
       "      <th>4</th>\n",
       "      <td>356169</td>\n",
       "      <td>538832</td>\n",
       "      <td>356169</td>\n",
       "      <td>198630</td>\n",
       "      <td>0.976562</td>\n",
       "      <td>356169_538832</td>\n",
       "      <td>356169_198630</td>\n",
       "    </tr>\n",
       "  </tbody>\n",
       "</table>\n",
       "</div>"
      ],
      "text/plain": [
       "    asid1    pid1   asid2    pid2      prob          apid1          apid2\n",
       "0  787998  538833  787998  376653  0.976562  787998_538833  787998_376653\n",
       "1  390550  538832  390550  128175  0.976562  390550_538832  390550_128175\n",
       "2  390550  538832  488447  166886  0.976562  390550_538832  488447_166886\n",
       "3  356169  538832  356169  198571  0.976562  356169_538832  356169_198571\n",
       "4  356169  538832  356169  198630  0.976562  356169_538832  356169_198630"
      ]
     },
     "execution_count": 98,
     "metadata": {},
     "output_type": "execute_result"
    }
   ],
   "source": [
    "df.head()"
   ]
  },
  {
   "cell_type": "code",
   "execution_count": 78,
   "metadata": {},
   "outputs": [
    {
     "data": {
      "text/html": [
       "<div>\n",
       "<style scoped>\n",
       "    .dataframe tbody tr th:only-of-type {\n",
       "        vertical-align: middle;\n",
       "    }\n",
       "\n",
       "    .dataframe tbody tr th {\n",
       "        vertical-align: top;\n",
       "    }\n",
       "\n",
       "    .dataframe thead th {\n",
       "        text-align: right;\n",
       "    }\n",
       "</style>\n",
       "<table border=\"1\" class=\"dataframe\">\n",
       "  <thead>\n",
       "    <tr style=\"text-align: right;\">\n",
       "      <th></th>\n",
       "      <th>asid1</th>\n",
       "      <th>asid2</th>\n",
       "      <th>pid1</th>\n",
       "      <th>pid2</th>\n",
       "      <th>apid1</th>\n",
       "      <th>apid2</th>\n",
       "    </tr>\n",
       "  </thead>\n",
       "  <tbody>\n",
       "    <tr>\n",
       "      <th>0</th>\n",
       "      <td>1</td>\n",
       "      <td>2</td>\n",
       "      <td>1</td>\n",
       "      <td>2</td>\n",
       "      <td>1_1</td>\n",
       "      <td>2_2</td>\n",
       "    </tr>\n",
       "    <tr>\n",
       "      <th>1</th>\n",
       "      <td>1</td>\n",
       "      <td>3</td>\n",
       "      <td>1</td>\n",
       "      <td>3</td>\n",
       "      <td>1_1</td>\n",
       "      <td>3_3</td>\n",
       "    </tr>\n",
       "    <tr>\n",
       "      <th>2</th>\n",
       "      <td>2</td>\n",
       "      <td>3</td>\n",
       "      <td>2</td>\n",
       "      <td>3</td>\n",
       "      <td>2_2</td>\n",
       "      <td>3_3</td>\n",
       "    </tr>\n",
       "    <tr>\n",
       "      <th>3</th>\n",
       "      <td>3</td>\n",
       "      <td>2</td>\n",
       "      <td>3</td>\n",
       "      <td>2</td>\n",
       "      <td>3_3</td>\n",
       "      <td>2_2</td>\n",
       "    </tr>\n",
       "    <tr>\n",
       "      <th>4</th>\n",
       "      <td>4</td>\n",
       "      <td>5</td>\n",
       "      <td>4</td>\n",
       "      <td>5</td>\n",
       "      <td>4_4</td>\n",
       "      <td>5_5</td>\n",
       "    </tr>\n",
       "    <tr>\n",
       "      <th>5</th>\n",
       "      <td>5</td>\n",
       "      <td>6</td>\n",
       "      <td>5</td>\n",
       "      <td>6</td>\n",
       "      <td>5_5</td>\n",
       "      <td>6_6</td>\n",
       "    </tr>\n",
       "    <tr>\n",
       "      <th>6</th>\n",
       "      <td>5</td>\n",
       "      <td>1</td>\n",
       "      <td>5</td>\n",
       "      <td>1</td>\n",
       "      <td>5_5</td>\n",
       "      <td>1_1</td>\n",
       "    </tr>\n",
       "  </tbody>\n",
       "</table>\n",
       "</div>"
      ],
      "text/plain": [
       "   asid1  asid2  pid1  pid2 apid1 apid2\n",
       "0      1      2     1     2   1_1   2_2\n",
       "1      1      3     1     3   1_1   3_3\n",
       "2      2      3     2     3   2_2   3_3\n",
       "3      3      2     3     2   3_3   2_2\n",
       "4      4      5     4     5   4_4   5_5\n",
       "5      5      6     5     6   5_5   6_6\n",
       "6      5      1     5     1   5_5   1_1"
      ]
     },
     "execution_count": 78,
     "metadata": {},
     "output_type": "execute_result"
    }
   ],
   "source": [
    "df = pd.DataFrame(data={'asid1':[1, 1, 2, 3, 4, 5, 5], 'pid1':[1, 1, 2, 3, 4, 5, 5], 'asid2':[2, 3, 3, 2, 5, 6, 1], 'pid2':[2, 3, 3, 2, 5, 6, 1]})\n",
    "df['apid1'] = df.asid1.astype(str) + '_' + df.pid1.astype(str)\n",
    "df['apid2'] = df.asid2.astype(str) + '_' + df.pid2.astype(str)\n",
    "df"
   ]
  },
  {
   "cell_type": "code",
   "execution_count": null,
   "metadata": {},
   "outputs": [],
   "source": []
  },
  {
   "cell_type": "code",
   "execution_count": 117,
   "metadata": {},
   "outputs": [
    {
     "data": {
      "text/plain": [
       "array([  1, 102, 103, 105,   5, 134, 135,   8,   9,  10,  11,  12, 123,\n",
       "       124,  15,  16,  17, 115, 116, 117, 118, 104,  23,  24,  25,  26,\n",
       "        27,  28,  29,  30,  31,  32,  33,  34, 128, 129, 132,  69,  39,\n",
       "        42,  43,  44,  45,  46,  47,  48,  49,  50,  51,  52,  53,  54,\n",
       "        55,  56, 130,  58,  59,  60,  61,  62,  63,  64,  65,  66,  67,\n",
       "        68,  91,  71,  97,  73,  74,  75,  76,  95,  78,  79,  80,  81,\n",
       "        82,  83,  84,  85,  86,  87,  88,  89,  90,  92,  98,  99, 100,\n",
       "       101, 106, 107, 108, 109, 110, 111, 112, 113, 114, 119, 120, 121,\n",
       "       122, 125, 126, 127, 131, 133, 136, 137, 138, 139, 140, 141, 142,\n",
       "       143, 144, 145, 146, 147, 148, 149, 150], dtype=int64)"
      ]
     },
     "execution_count": 117,
     "metadata": {},
     "output_type": "execute_result"
    }
   ],
   "source": [
    "def update_author_df(author, df):\n",
    "    \n",
    "    i = 0\n",
    "    \n",
    "    if len(author.index) == 0:\n",
    "    \n",
    "        index = 0\n",
    "        author = author.append({'aid': 1, 'apid': df.at[index, 'apid1'], 'asid': df.at[index, 'asid1'], 'pid': df.at[index, 'pid1']}, ignore_index=True)\n",
    "        author = author.append({'aid': 1, 'apid': df.at[index, 'apid2'], 'asid': df.at[index, 'asid2'], 'pid': df.at[index, 'pid2']}, ignore_index=True)\n",
    "        author.set_index('apid', inplace=True)\n",
    "        i = 1\n",
    "\n",
    "    for index in df.index[i:]:       \n",
    "\n",
    "        ########\n",
    "\n",
    "        apid1 = df.at[index, 'apid1']\n",
    "        apid2 = df.at[index, 'apid2']\n",
    "\n",
    "        ## look for an inconsitency where both apid are in author pointing to two different aid\n",
    "        ## if so update\n",
    "        try: \n",
    "            aid1 = author.at[apid1, 'aid']\n",
    "            aid2 = author.at[apid2, 'aid']\n",
    "\n",
    "            if aid1 != aid2:\n",
    "                author.loc[author.aid == aid2, 'aid'] = aid1\n",
    "        except:\n",
    "            pass        \n",
    "        \n",
    "        ## if apid1 not in author create new aid and add new row\n",
    "        if apid1 not in author.index:\n",
    "\n",
    "            aid1 = author.aid.max() + 1\n",
    "\n",
    "            asid1 = df.at[index, 'asid1']\n",
    "            pid1  = df.at[index,  'pid1']        \n",
    "\n",
    "            author = author.append(pd.DataFrame(index=[apid1], data={'aid':[aid1], 'asid':[asid1], 'pid':[pid1]}))\n",
    "\n",
    "        #########\n",
    "\n",
    "\n",
    "        ## if apid2 not in author add new row with apid1's aid\n",
    "        if apid2 not in author.index:\n",
    "           \n",
    "            aid2 = author.loc[apid1, 'aid']\n",
    "\n",
    "            asid2 = df.at[index, 'asid2']\n",
    "            pid2  = df.at[index,  'pid2']\n",
    "\n",
    "            author = author.append(pd.DataFrame(index=[apid2], data={'aid':[aid2], 'asid':[asid2], 'pid':[pid2]}))\n",
    "    \n",
    "    return author\n",
    "\n",
    "\n",
    "author = pd.DataFrame(columns=['aid', 'apid', 'asid', 'pid'], dtype=np.int32)\n",
    "author = update_author_df(author, df[:-1])\n",
    "    \n",
    "    ### what if there is a clash?\n",
    "    \n",
    "author.aid.unique()"
   ]
  },
  {
   "cell_type": "code",
   "execution_count": 111,
   "metadata": {},
   "outputs": [],
   "source": [
    "author = pd.DataFrame(columns=['aid', 'apid', 'asid', 'pid'], dtype=np.int32)"
   ]
  },
  {
   "cell_type": "code",
   "execution_count": 104,
   "metadata": {},
   "outputs": [
    {
     "name": "stdout",
     "output_type": "stream",
     "text": [
      "1.72 s ± 28.6 ms per loop (mean ± std. dev. of 7 runs, 1 loop each)\n"
     ]
    }
   ],
   "source": [
    "%timeit update_author_df(author, df)"
   ]
  },
  {
   "cell_type": "code",
   "execution_count": 112,
   "metadata": {},
   "outputs": [],
   "source": [
    "author = pd.DataFrame(columns=['aid', 'apid', 'asid', 'pid'], dtype=np.int32)"
   ]
  },
  {
   "cell_type": "code",
   "execution_count": 106,
   "metadata": {},
   "outputs": [
    {
     "name": "stdout",
     "output_type": "stream",
     "text": [
      "1.69 s ± 25.3 ms per loop (mean ± std. dev. of 7 runs, 1 loop each)\n"
     ]
    }
   ],
   "source": [
    "%timeit update_author_df(author, df)"
   ]
  },
  {
   "cell_type": "code",
   "execution_count": 107,
   "metadata": {},
   "outputs": [
    {
     "data": {
      "text/plain": [
       "1647"
      ]
     },
     "execution_count": 107,
     "metadata": {},
     "output_type": "execute_result"
    }
   ],
   "source": [
    "len(df)"
   ]
  },
  {
   "cell_type": "code",
   "execution_count": 113,
   "metadata": {},
   "outputs": [
    {
     "data": {
      "text/html": [
       "<div>\n",
       "<style scoped>\n",
       "    .dataframe tbody tr th:only-of-type {\n",
       "        vertical-align: middle;\n",
       "    }\n",
       "\n",
       "    .dataframe tbody tr th {\n",
       "        vertical-align: top;\n",
       "    }\n",
       "\n",
       "    .dataframe thead th {\n",
       "        text-align: right;\n",
       "    }\n",
       "</style>\n",
       "<table border=\"1\" class=\"dataframe\">\n",
       "  <thead>\n",
       "    <tr style=\"text-align: right;\">\n",
       "      <th></th>\n",
       "      <th>aid</th>\n",
       "      <th>apid</th>\n",
       "      <th>asid</th>\n",
       "      <th>pid</th>\n",
       "    </tr>\n",
       "  </thead>\n",
       "  <tbody>\n",
       "  </tbody>\n",
       "</table>\n",
       "</div>"
      ],
      "text/plain": [
       "Empty DataFrame\n",
       "Columns: [aid, apid, asid, pid]\n",
       "Index: []"
      ]
     },
     "execution_count": 113,
     "metadata": {},
     "output_type": "execute_result"
    }
   ],
   "source": [
    "author.head(10)"
   ]
  },
  {
   "cell_type": "code",
   "execution_count": null,
   "metadata": {},
   "outputs": [],
   "source": []
  }
 ],
 "metadata": {
  "kernelspec": {
   "display_name": "Python 3",
   "language": "python",
   "name": "python3"
  },
  "language_info": {
   "codemirror_mode": {
    "name": "ipython",
    "version": 3
   },
   "file_extension": ".py",
   "mimetype": "text/x-python",
   "name": "python",
   "nbconvert_exporter": "python",
   "pygments_lexer": "ipython3",
   "version": "3.6.4"
  }
 },
 "nbformat": 4,
 "nbformat_minor": 2
}
